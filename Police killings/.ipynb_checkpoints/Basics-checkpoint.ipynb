{
 "cells": [
  {
   "cell_type": "code",
   "execution_count": 2,
   "metadata": {
    "collapsed": false
   },
   "outputs": [],
   "source": [
    "import pandas as pd\n",
    "police_killings =pd.read_csv('police_killings.csv',encoding = 'ISO-8859-1')"
   ]
  },
  {
   "cell_type": "code",
   "execution_count": null,
   "metadata": {
    "collapsed": true
   },
   "outputs": [],
   "source": []
  },
  {
   "cell_type": "code",
   "execution_count": 3,
   "metadata": {
    "collapsed": false
   },
   "outputs": [
    {
     "name": "stdout",
     "output_type": "stream",
     "text": [
      "['name' 'age' 'gender' 'raceethnicity' 'month' 'day' 'year' 'streetaddress'\n",
      " 'city' 'state' 'latitude' 'longitude' 'state_fp' 'county_fp' 'tract_ce'\n",
      " 'geo_id' 'county_id' 'namelsad' 'lawenforcementagency' 'cause' 'armed'\n",
      " 'pop' 'share_white' 'share_black' 'share_hispanic' 'p_income' 'h_income'\n",
      " 'county_income' 'comp_income' 'county_bucket' 'nat_bucket' 'pov' 'urate'\n",
      " 'college']\n"
     ]
    }
   ],
   "source": [
    "print(police_killings.columns.values)"
   ]
  },
  {
   "cell_type": "code",
   "execution_count": 4,
   "metadata": {
    "collapsed": false
   },
   "outputs": [
    {
     "name": "stdout",
     "output_type": "stream",
     "text": [
      "                 name age gender    raceethnicity     month  day  year  \\\n",
      "0  A'donte Washington  16   Male            Black  February   23  2015   \n",
      "1      Aaron Rutledge  27   Male            White     April    2  2015   \n",
      "2         Aaron Siler  26   Male            White     March   14  2015   \n",
      "3        Aaron Valdez  25   Male  Hispanic/Latino     March   11  2015   \n",
      "4        Adam Jovicic  29   Male            White     March   19  2015   \n",
      "\n",
      "            streetaddress          city state    ...     share_hispanic  \\\n",
      "0            Clearview Ln     Millbrook    AL    ...                5.6   \n",
      "1  300 block Iris Park Dr     Pineville    LA    ...                0.5   \n",
      "2    22nd Ave and 56th St       Kenosha    WI    ...               16.8   \n",
      "3       3000 Seminole Ave    South Gate    CA    ...               98.8   \n",
      "4          364 Hiwood Ave  Munroe Falls    OH    ...                1.7   \n",
      "\n",
      "   p_income  h_income  county_income  comp_income  county_bucket  nat_bucket  \\\n",
      "0     28375   51367.0          54766     0.937936            3.0         3.0   \n",
      "1     14678   27972.0          40930     0.683411            2.0         1.0   \n",
      "2     25286   45365.0          54930     0.825869            2.0         3.0   \n",
      "3     17194   48295.0          55909     0.863814            3.0         3.0   \n",
      "4     33954   68785.0          49669     1.384868            5.0         4.0   \n",
      "\n",
      "    pov     urate   college  \n",
      "0  14.1  0.097686  0.168510  \n",
      "1  28.8  0.065724  0.111402  \n",
      "2  14.6  0.166293  0.147312  \n",
      "3  11.7  0.124827  0.050133  \n",
      "4   1.9  0.063550  0.403954  \n",
      "\n",
      "[5 rows x 34 columns]\n"
     ]
    }
   ],
   "source": [
    "print(police_killings.head())"
   ]
  },
  {
   "cell_type": "code",
   "execution_count": 5,
   "metadata": {
    "collapsed": false
   },
   "outputs": [
    {
     "data": {
      "text/plain": [
       "White                     236\n",
       "Black                     135\n",
       "Hispanic/Latino            67\n",
       "Unknown                    15\n",
       "Asian/Pacific Islander     10\n",
       "Native American             4\n",
       "Name: raceethnicity, dtype: int64"
      ]
     },
     "execution_count": 5,
     "metadata": {},
     "output_type": "execute_result"
    }
   ],
   "source": [
    "police_killings['raceethnicity'].value_counts()"
   ]
  },
  {
   "cell_type": "code",
   "execution_count": 6,
   "metadata": {
    "collapsed": false
   },
   "outputs": [
    {
     "data": {
      "image/png": "[encoded data removed]",
      "text/plain": [
       "<matplotlib.figure.Figure at 0x7fd0c11c67f0>"
      ]
     },
     "metadata": {},
     "output_type": "display_data"
    }
   ],
   "source": [
    "import matplotlib.pyplot as plt\n",
    "%matplotlib inline\n",
    "police_killings['raceethnicity'].value_counts().plot(kind = 'bar')\n",
    "plt.show()"
   ]
  },
  {
   "cell_type": "markdown",
   "metadata": {},
   "source": [
    "It appears that the highest ethnicity killed was white, but we should look at the ratio or ethnicities in the entire US population to make more substantial analysis of this result."
   ]
  },
  {
   "cell_type": "code",
   "execution_count": 7,
   "metadata": {
    "collapsed": false
   },
   "outputs": [
    {
     "name": "stdout",
     "output_type": "stream",
     "text": [
      "0    28375.0\n",
      "1    14678.0\n",
      "2    25286.0\n",
      "3    17194.0\n",
      "4    33954.0\n",
      "Name: p_income, dtype: float64\n"
     ]
    }
   ],
   "source": [
    "income = police_killings['p_income'][police_killings['p_income']!= '-']\n",
    "income = income.astype(float)\n",
    "print(income.head())"
   ]
  },
  {
   "cell_type": "code",
   "execution_count": 8,
   "metadata": {
    "collapsed": false
   },
   "outputs": [
    {
     "data": {
      "text/plain": [
       "(array([  2.,   0.,   0.,   1.,   1.,   1.,   1.,   9.,   3.,   7.,  10.,\n",
       "         15.,  19.,  14.,  18.,  16.,  25.,  15.,  22.,  25.,  29.,  21.,\n",
       "         21.,   8.,  15.,  15.,  15.,  14.,  10.,   4.,   9.,  15.,   9.,\n",
       "          6.,   5.,   7.,   6.,   4.,   6.,   6.,   3.,   4.,   2.,   3.,\n",
       "          4.,   2.,   4.,   1.,   2.,   1.,   1.,   0.,   0.,   1.,   1.,\n",
       "          0.,   2.,   0.,   1.,   0.,   2.,   0.,   0.,   0.,   0.,   0.,\n",
       "          0.,   0.,   0.,   0.,   0.,   0.,   0.,   1.,   0.,   0.,   0.,\n",
       "          0.,   0.,   0.,   0.,   0.,   0.,   0.,   0.,   0.,   0.,   0.,\n",
       "          0.,   0.,   0.,   0.,   0.,   0.,   0.,   0.,   0.,   0.,   0.,\n",
       "          1.]),\n",
       " array([  5457.  ,   6262.66,   7068.32,   7873.98,   8679.64,   9485.3 ,\n",
       "         10290.96,  11096.62,  11902.28,  12707.94,  13513.6 ,  14319.26,\n",
       "         15124.92,  15930.58,  16736.24,  17541.9 ,  18347.56,  19153.22,\n",
       "         19958.88,  20764.54,  21570.2 ,  22375.86,  23181.52,  23987.18,\n",
       "         24792.84,  25598.5 ,  26404.16,  27209.82,  28015.48,  28821.14,\n",
       "         29626.8 ,  30432.46,  31238.12,  32043.78,  32849.44,  33655.1 ,\n",
       "         34460.76,  35266.42,  36072.08,  36877.74,  37683.4 ,  38489.06,\n",
       "         39294.72,  40100.38,  40906.04,  41711.7 ,  42517.36,  43323.02,\n",
       "         44128.68,  44934.34,  45740.  ,  46545.66,  47351.32,  48156.98,\n",
       "         48962.64,  49768.3 ,  50573.96,  51379.62,  52185.28,  52990.94,\n",
       "         53796.6 ,  54602.26,  55407.92,  56213.58,  57019.24,  57824.9 ,\n",
       "         58630.56,  59436.22,  60241.88,  61047.54,  61853.2 ,  62658.86,\n",
       "         63464.52,  64270.18,  65075.84,  65881.5 ,  66687.16,  67492.82,\n",
       "         68298.48,  69104.14,  69909.8 ,  70715.46,  71521.12,  72326.78,\n",
       "         73132.44,  73938.1 ,  74743.76,  75549.42,  76355.08,  77160.74,\n",
       "         77966.4 ,  78772.06,  79577.72,  80383.38,  81189.04,  81994.7 ,\n",
       "         82800.36,  83606.02,  84411.68,  85217.34,  86023.  ]),\n",
       " <a list of 100 Patch objects>)"
      ]
     },
     "execution_count": 8,
     "metadata": {},
     "output_type": "execute_result"
    },
    {
     "data": {
      "image/png": "[encoded data removed]",
      "text/plain": [
       "<matplotlib.figure.Figure at 0x7fd0d5f83ba8>"
      ]
     },
     "metadata": {},
     "output_type": "display_data"
    }
   ],
   "source": [
    "plt.hist(income,bins = 100)"
   ]
  },
  {
   "cell_type": "code",
   "execution_count": 9,
   "metadata": {
    "collapsed": false
   },
   "outputs": [],
   "source": [
    "state_pop = pd.read_csv('state_population.csv')"
   ]
  },
  {
   "cell_type": "code",
   "execution_count": 10,
   "metadata": {
    "collapsed": false
   },
   "outputs": [
    {
     "name": "stdout",
     "output_type": "stream",
     "text": [
      "6     74\n",
      "48    47\n",
      "12    29\n",
      "4     25\n",
      "40    22\n",
      "Name: state_fp, dtype: int64\n"
     ]
    }
   ],
   "source": [
    "counts = police_killings['state_fp'].value_counts()\n",
    "print(counts.head())"
   ]
  },
  {
   "cell_type": "code",
   "execution_count": 11,
   "metadata": {
    "collapsed": true
   },
   "outputs": [],
   "source": [
    "states = pd.DataFrame({'STATE': counts.index,\"shootings\":counts})"
   ]
  },
  {
   "cell_type": "code",
   "execution_count": 12,
   "metadata": {
    "collapsed": false
   },
   "outputs": [
    {
     "data": {
      "text/html": [
       "<div>\n",
       "<table border=\"1\" class=\"dataframe\">\n",
       "  <thead>\n",
       "    <tr style=\"text-align: right;\">\n",
       "      <th></th>\n",
       "      <th>STATE</th>\n",
       "      <th>shootings</th>\n",
       "      <th>SUMLEV</th>\n",
       "      <th>REGION</th>\n",
       "      <th>DIVISION</th>\n",
       "      <th>NAME</th>\n",
       "      <th>POPESTIMATE2015</th>\n",
       "      <th>POPEST18PLUS2015</th>\n",
       "      <th>PCNT_POPEST18PLUS</th>\n",
       "    </tr>\n",
       "  </thead>\n",
       "  <tbody>\n",
       "    <tr>\n",
       "      <th>0</th>\n",
       "      <td>6</td>\n",
       "      <td>74</td>\n",
       "      <td>40</td>\n",
       "      <td>4</td>\n",
       "      <td>9</td>\n",
       "      <td>California</td>\n",
       "      <td>39144818</td>\n",
       "      <td>30023902</td>\n",
       "      <td>76.7</td>\n",
       "    </tr>\n",
       "    <tr>\n",
       "      <th>1</th>\n",
       "      <td>48</td>\n",
       "      <td>47</td>\n",
       "      <td>40</td>\n",
       "      <td>3</td>\n",
       "      <td>7</td>\n",
       "      <td>Texas</td>\n",
       "      <td>27469114</td>\n",
       "      <td>20257343</td>\n",
       "      <td>73.7</td>\n",
       "    </tr>\n",
       "    <tr>\n",
       "      <th>2</th>\n",
       "      <td>12</td>\n",
       "      <td>29</td>\n",
       "      <td>40</td>\n",
       "      <td>3</td>\n",
       "      <td>5</td>\n",
       "      <td>Florida</td>\n",
       "      <td>20271272</td>\n",
       "      <td>16166143</td>\n",
       "      <td>79.7</td>\n",
       "    </tr>\n",
       "    <tr>\n",
       "      <th>3</th>\n",
       "      <td>4</td>\n",
       "      <td>25</td>\n",
       "      <td>40</td>\n",
       "      <td>4</td>\n",
       "      <td>8</td>\n",
       "      <td>Arizona</td>\n",
       "      <td>6828065</td>\n",
       "      <td>5205215</td>\n",
       "      <td>76.2</td>\n",
       "    </tr>\n",
       "    <tr>\n",
       "      <th>4</th>\n",
       "      <td>40</td>\n",
       "      <td>22</td>\n",
       "      <td>40</td>\n",
       "      <td>3</td>\n",
       "      <td>7</td>\n",
       "      <td>Oklahoma</td>\n",
       "      <td>3911338</td>\n",
       "      <td>2950017</td>\n",
       "      <td>75.4</td>\n",
       "    </tr>\n",
       "  </tbody>\n",
       "</table>\n",
       "</div>"
      ],
      "text/plain": [
       "   STATE  shootings  SUMLEV REGION DIVISION        NAME  POPESTIMATE2015  \\\n",
       "0      6         74      40      4        9  California         39144818   \n",
       "1     48         47      40      3        7       Texas         27469114   \n",
       "2     12         29      40      3        5     Florida         20271272   \n",
       "3      4         25      40      4        8     Arizona          6828065   \n",
       "4     40         22      40      3        7    Oklahoma          3911338   \n",
       "\n",
       "   POPEST18PLUS2015  PCNT_POPEST18PLUS  \n",
       "0          30023902               76.7  \n",
       "1          20257343               73.7  \n",
       "2          16166143               79.7  \n",
       "3           5205215               76.2  \n",
       "4           2950017               75.4  "
      ]
     },
     "execution_count": 12,
     "metadata": {},
     "output_type": "execute_result"
    }
   ],
   "source": [
    "states = pd.merge(states,state_pop, on = \"STATE\")\n",
    "states.head()"
   ]
  },
  {
   "cell_type": "code",
   "execution_count": 13,
   "metadata": {
    "collapsed": false
   },
   "outputs": [],
   "source": [
    "states['pop_millions']= states['POPESTIMATE2015']/1000000\n",
    "states['rate']= states['shootings']/states['pop_millions']"
   ]
  },
  {
   "cell_type": "code",
   "execution_count": 14,
   "metadata": {
    "collapsed": false
   },
   "outputs": [
    {
     "data": {
      "text/html": [
       "<div>\n",
       "<table border=\"1\" class=\"dataframe\">\n",
       "  <thead>\n",
       "    <tr style=\"text-align: right;\">\n",
       "      <th></th>\n",
       "      <th>STATE</th>\n",
       "      <th>shootings</th>\n",
       "      <th>SUMLEV</th>\n",
       "      <th>REGION</th>\n",
       "      <th>DIVISION</th>\n",
       "      <th>NAME</th>\n",
       "      <th>POPESTIMATE2015</th>\n",
       "      <th>POPEST18PLUS2015</th>\n",
       "      <th>PCNT_POPEST18PLUS</th>\n",
       "      <th>pop_millions</th>\n",
       "      <th>rate</th>\n",
       "    </tr>\n",
       "  </thead>\n",
       "  <tbody>\n",
       "    <tr>\n",
       "      <th>0</th>\n",
       "      <td>6</td>\n",
       "      <td>74</td>\n",
       "      <td>40</td>\n",
       "      <td>4</td>\n",
       "      <td>9</td>\n",
       "      <td>California</td>\n",
       "      <td>39144818</td>\n",
       "      <td>30023902</td>\n",
       "      <td>76.7</td>\n",
       "      <td>39.144818</td>\n",
       "      <td>1.890416</td>\n",
       "    </tr>\n",
       "    <tr>\n",
       "      <th>1</th>\n",
       "      <td>48</td>\n",
       "      <td>47</td>\n",
       "      <td>40</td>\n",
       "      <td>3</td>\n",
       "      <td>7</td>\n",
       "      <td>Texas</td>\n",
       "      <td>27469114</td>\n",
       "      <td>20257343</td>\n",
       "      <td>73.7</td>\n",
       "      <td>27.469114</td>\n",
       "      <td>1.711013</td>\n",
       "    </tr>\n",
       "    <tr>\n",
       "      <th>2</th>\n",
       "      <td>12</td>\n",
       "      <td>29</td>\n",
       "      <td>40</td>\n",
       "      <td>3</td>\n",
       "      <td>5</td>\n",
       "      <td>Florida</td>\n",
       "      <td>20271272</td>\n",
       "      <td>16166143</td>\n",
       "      <td>79.7</td>\n",
       "      <td>20.271272</td>\n",
       "      <td>1.430596</td>\n",
       "    </tr>\n",
       "    <tr>\n",
       "      <th>6</th>\n",
       "      <td>36</td>\n",
       "      <td>13</td>\n",
       "      <td>40</td>\n",
       "      <td>1</td>\n",
       "      <td>2</td>\n",
       "      <td>New York</td>\n",
       "      <td>19795791</td>\n",
       "      <td>15584974</td>\n",
       "      <td>78.7</td>\n",
       "      <td>19.795791</td>\n",
       "      <td>0.656705</td>\n",
       "    </tr>\n",
       "    <tr>\n",
       "      <th>11</th>\n",
       "      <td>17</td>\n",
       "      <td>11</td>\n",
       "      <td>40</td>\n",
       "      <td>2</td>\n",
       "      <td>3</td>\n",
       "      <td>Illinois</td>\n",
       "      <td>12859995</td>\n",
       "      <td>9901322</td>\n",
       "      <td>77.0</td>\n",
       "      <td>12.859995</td>\n",
       "      <td>0.855366</td>\n",
       "    </tr>\n",
       "  </tbody>\n",
       "</table>\n",
       "</div>"
      ],
      "text/plain": [
       "    STATE  shootings  SUMLEV REGION DIVISION        NAME  POPESTIMATE2015  \\\n",
       "0       6         74      40      4        9  California         39144818   \n",
       "1      48         47      40      3        7       Texas         27469114   \n",
       "2      12         29      40      3        5     Florida         20271272   \n",
       "6      36         13      40      1        2    New York         19795791   \n",
       "11     17         11      40      2        3    Illinois         12859995   \n",
       "\n",
       "    POPEST18PLUS2015  PCNT_POPEST18PLUS  pop_millions      rate  \n",
       "0           30023902               76.7     39.144818  1.890416  \n",
       "1           20257343               73.7     27.469114  1.711013  \n",
       "2           16166143               79.7     20.271272  1.430596  \n",
       "6           15584974               78.7     19.795791  0.656705  \n",
       "11           9901322               77.0     12.859995  0.855366  "
      ]
     },
     "execution_count": 14,
     "metadata": {},
     "output_type": "execute_result"
    }
   ],
   "source": [
    "states.sort_values(by = 'pop_millions',ascending = False).head()"
   ]
  },
  {
   "cell_type": "code",
   "execution_count": 15,
   "metadata": {
    "collapsed": false
   },
   "outputs": [
    {
     "data": {
      "text/html": [
       "<div>\n",
       "<table border=\"1\" class=\"dataframe\">\n",
       "  <thead>\n",
       "    <tr style=\"text-align: right;\">\n",
       "      <th></th>\n",
       "      <th>STATE</th>\n",
       "      <th>shootings</th>\n",
       "      <th>SUMLEV</th>\n",
       "      <th>REGION</th>\n",
       "      <th>DIVISION</th>\n",
       "      <th>NAME</th>\n",
       "      <th>POPESTIMATE2015</th>\n",
       "      <th>POPEST18PLUS2015</th>\n",
       "      <th>PCNT_POPEST18PLUS</th>\n",
       "      <th>pop_millions</th>\n",
       "      <th>rate</th>\n",
       "    </tr>\n",
       "  </thead>\n",
       "  <tbody>\n",
       "    <tr>\n",
       "      <th>46</th>\n",
       "      <td>56</td>\n",
       "      <td>1</td>\n",
       "      <td>40</td>\n",
       "      <td>4</td>\n",
       "      <td>8</td>\n",
       "      <td>Wyoming</td>\n",
       "      <td>586107</td>\n",
       "      <td>447212</td>\n",
       "      <td>76.3</td>\n",
       "      <td>0.586107</td>\n",
       "      <td>1.706173</td>\n",
       "    </tr>\n",
       "    <tr>\n",
       "      <th>44</th>\n",
       "      <td>11</td>\n",
       "      <td>1</td>\n",
       "      <td>40</td>\n",
       "      <td>3</td>\n",
       "      <td>5</td>\n",
       "      <td>District of Columbia</td>\n",
       "      <td>672228</td>\n",
       "      <td>554121</td>\n",
       "      <td>82.4</td>\n",
       "      <td>0.672228</td>\n",
       "      <td>1.487591</td>\n",
       "    </tr>\n",
       "    <tr>\n",
       "      <th>39</th>\n",
       "      <td>2</td>\n",
       "      <td>2</td>\n",
       "      <td>40</td>\n",
       "      <td>4</td>\n",
       "      <td>9</td>\n",
       "      <td>Alaska</td>\n",
       "      <td>738432</td>\n",
       "      <td>552166</td>\n",
       "      <td>74.8</td>\n",
       "      <td>0.738432</td>\n",
       "      <td>2.708442</td>\n",
       "    </tr>\n",
       "    <tr>\n",
       "      <th>41</th>\n",
       "      <td>10</td>\n",
       "      <td>2</td>\n",
       "      <td>40</td>\n",
       "      <td>3</td>\n",
       "      <td>5</td>\n",
       "      <td>Delaware</td>\n",
       "      <td>945934</td>\n",
       "      <td>741548</td>\n",
       "      <td>78.4</td>\n",
       "      <td>0.945934</td>\n",
       "      <td>2.114312</td>\n",
       "    </tr>\n",
       "    <tr>\n",
       "      <th>37</th>\n",
       "      <td>30</td>\n",
       "      <td>2</td>\n",
       "      <td>40</td>\n",
       "      <td>4</td>\n",
       "      <td>8</td>\n",
       "      <td>Montana</td>\n",
       "      <td>1032949</td>\n",
       "      <td>806529</td>\n",
       "      <td>78.1</td>\n",
       "      <td>1.032949</td>\n",
       "      <td>1.936204</td>\n",
       "    </tr>\n",
       "  </tbody>\n",
       "</table>\n",
       "</div>"
      ],
      "text/plain": [
       "    STATE  shootings  SUMLEV REGION DIVISION                  NAME  \\\n",
       "46     56          1      40      4        8               Wyoming   \n",
       "44     11          1      40      3        5  District of Columbia   \n",
       "39      2          2      40      4        9                Alaska   \n",
       "41     10          2      40      3        5              Delaware   \n",
       "37     30          2      40      4        8               Montana   \n",
       "\n",
       "    POPESTIMATE2015  POPEST18PLUS2015  PCNT_POPEST18PLUS  pop_millions  \\\n",
       "46           586107            447212               76.3      0.586107   \n",
       "44           672228            554121               82.4      0.672228   \n",
       "39           738432            552166               74.8      0.738432   \n",
       "41           945934            741548               78.4      0.945934   \n",
       "37          1032949            806529               78.1      1.032949   \n",
       "\n",
       "        rate  \n",
       "46  1.706173  \n",
       "44  1.487591  \n",
       "39  2.708442  \n",
       "41  2.114312  \n",
       "37  1.936204  "
      ]
     },
     "execution_count": 15,
     "metadata": {},
     "output_type": "execute_result"
    }
   ],
   "source": [
    "states.sort_values(by= 'pop_millions',ascending = True).head()"
   ]
  },
  {
   "cell_type": "markdown",
   "metadata": {
    "collapsed": true
   },
   "source": [
    "Wyoming appears to have the lowest police killings per millions while california has the higest\n",
    "one explination and area to explore is how the killings are spread within the states. in urban versus rural."
   ]
  },
  {
   "cell_type": "code",
   "execution_count": 17,
   "metadata": {
    "collapsed": false
   },
   "outputs": [
    {
     "data": {
      "text/html": [
       "<div>\n",
       "<table border=\"1\" class=\"dataframe\">\n",
       "  <thead>\n",
       "    <tr style=\"text-align: right;\">\n",
       "      <th></th>\n",
       "      <th>STATE</th>\n",
       "      <th>shootings</th>\n",
       "      <th>SUMLEV</th>\n",
       "      <th>REGION</th>\n",
       "      <th>DIVISION</th>\n",
       "      <th>NAME</th>\n",
       "      <th>POPESTIMATE2015</th>\n",
       "      <th>POPEST18PLUS2015</th>\n",
       "      <th>PCNT_POPEST18PLUS</th>\n",
       "      <th>pop_millions</th>\n",
       "      <th>rate</th>\n",
       "    </tr>\n",
       "  </thead>\n",
       "  <tbody>\n",
       "    <tr>\n",
       "      <th>4</th>\n",
       "      <td>40</td>\n",
       "      <td>22</td>\n",
       "      <td>40</td>\n",
       "      <td>3</td>\n",
       "      <td>7</td>\n",
       "      <td>Oklahoma</td>\n",
       "      <td>3911338</td>\n",
       "      <td>2950017</td>\n",
       "      <td>75.4</td>\n",
       "      <td>3.911338</td>\n",
       "      <td>5.624674</td>\n",
       "    </tr>\n",
       "    <tr>\n",
       "      <th>3</th>\n",
       "      <td>4</td>\n",
       "      <td>25</td>\n",
       "      <td>40</td>\n",
       "      <td>4</td>\n",
       "      <td>8</td>\n",
       "      <td>Arizona</td>\n",
       "      <td>6828065</td>\n",
       "      <td>5205215</td>\n",
       "      <td>76.2</td>\n",
       "      <td>6.828065</td>\n",
       "      <td>3.661359</td>\n",
       "    </tr>\n",
       "    <tr>\n",
       "      <th>27</th>\n",
       "      <td>31</td>\n",
       "      <td>6</td>\n",
       "      <td>40</td>\n",
       "      <td>2</td>\n",
       "      <td>4</td>\n",
       "      <td>Nebraska</td>\n",
       "      <td>1896190</td>\n",
       "      <td>1425853</td>\n",
       "      <td>75.2</td>\n",
       "      <td>1.896190</td>\n",
       "      <td>3.164240</td>\n",
       "    </tr>\n",
       "    <tr>\n",
       "      <th>34</th>\n",
       "      <td>15</td>\n",
       "      <td>4</td>\n",
       "      <td>40</td>\n",
       "      <td>4</td>\n",
       "      <td>9</td>\n",
       "      <td>Hawaii</td>\n",
       "      <td>1431603</td>\n",
       "      <td>1120770</td>\n",
       "      <td>78.3</td>\n",
       "      <td>1.431603</td>\n",
       "      <td>2.794071</td>\n",
       "    </tr>\n",
       "    <tr>\n",
       "      <th>39</th>\n",
       "      <td>2</td>\n",
       "      <td>2</td>\n",
       "      <td>40</td>\n",
       "      <td>4</td>\n",
       "      <td>9</td>\n",
       "      <td>Alaska</td>\n",
       "      <td>738432</td>\n",
       "      <td>552166</td>\n",
       "      <td>74.8</td>\n",
       "      <td>0.738432</td>\n",
       "      <td>2.708442</td>\n",
       "    </tr>\n",
       "  </tbody>\n",
       "</table>\n",
       "</div>"
      ],
      "text/plain": [
       "    STATE  shootings  SUMLEV REGION DIVISION      NAME  POPESTIMATE2015  \\\n",
       "4      40         22      40      3        7  Oklahoma          3911338   \n",
       "3       4         25      40      4        8   Arizona          6828065   \n",
       "27     31          6      40      2        4  Nebraska          1896190   \n",
       "34     15          4      40      4        9    Hawaii          1431603   \n",
       "39      2          2      40      4        9    Alaska           738432   \n",
       "\n",
       "    POPEST18PLUS2015  PCNT_POPEST18PLUS  pop_millions      rate  \n",
       "4            2950017               75.4      3.911338  5.624674  \n",
       "3            5205215               76.2      6.828065  3.661359  \n",
       "27           1425853               75.2      1.896190  3.164240  \n",
       "34           1120770               78.3      1.431603  2.794071  \n",
       "39            552166               74.8      0.738432  2.708442  "
      ]
     },
     "execution_count": 17,
     "metadata": {},
     "output_type": "execute_result"
    }
   ],
   "source": [
    "states.sort_values(by= 'rate',ascending = False).head()"
   ]
  },
  {
   "cell_type": "code",
   "execution_count": 18,
   "metadata": {
    "collapsed": false
   },
   "outputs": [
    {
     "data": {
      "text/html": [
       "<div>\n",
       "<table border=\"1\" class=\"dataframe\">\n",
       "  <thead>\n",
       "    <tr style=\"text-align: right;\">\n",
       "      <th></th>\n",
       "      <th>STATE</th>\n",
       "      <th>shootings</th>\n",
       "      <th>SUMLEV</th>\n",
       "      <th>REGION</th>\n",
       "      <th>DIVISION</th>\n",
       "      <th>NAME</th>\n",
       "      <th>POPESTIMATE2015</th>\n",
       "      <th>POPEST18PLUS2015</th>\n",
       "      <th>PCNT_POPEST18PLUS</th>\n",
       "      <th>pop_millions</th>\n",
       "      <th>rate</th>\n",
       "    </tr>\n",
       "  </thead>\n",
       "  <tbody>\n",
       "    <tr>\n",
       "      <th>43</th>\n",
       "      <td>9</td>\n",
       "      <td>1</td>\n",
       "      <td>40</td>\n",
       "      <td>1</td>\n",
       "      <td>1</td>\n",
       "      <td>Connecticut</td>\n",
       "      <td>3590886</td>\n",
       "      <td>2826827</td>\n",
       "      <td>78.7</td>\n",
       "      <td>3.590886</td>\n",
       "      <td>0.278483</td>\n",
       "    </tr>\n",
       "    <tr>\n",
       "      <th>22</th>\n",
       "      <td>42</td>\n",
       "      <td>7</td>\n",
       "      <td>40</td>\n",
       "      <td>1</td>\n",
       "      <td>2</td>\n",
       "      <td>Pennsylvania</td>\n",
       "      <td>12802503</td>\n",
       "      <td>10112229</td>\n",
       "      <td>79.0</td>\n",
       "      <td>12.802503</td>\n",
       "      <td>0.546768</td>\n",
       "    </tr>\n",
       "    <tr>\n",
       "      <th>38</th>\n",
       "      <td>19</td>\n",
       "      <td>2</td>\n",
       "      <td>40</td>\n",
       "      <td>2</td>\n",
       "      <td>4</td>\n",
       "      <td>Iowa</td>\n",
       "      <td>3123899</td>\n",
       "      <td>2395103</td>\n",
       "      <td>76.7</td>\n",
       "      <td>3.123899</td>\n",
       "      <td>0.640226</td>\n",
       "    </tr>\n",
       "    <tr>\n",
       "      <th>6</th>\n",
       "      <td>36</td>\n",
       "      <td>13</td>\n",
       "      <td>40</td>\n",
       "      <td>1</td>\n",
       "      <td>2</td>\n",
       "      <td>New York</td>\n",
       "      <td>19795791</td>\n",
       "      <td>15584974</td>\n",
       "      <td>78.7</td>\n",
       "      <td>19.795791</td>\n",
       "      <td>0.656705</td>\n",
       "    </tr>\n",
       "    <tr>\n",
       "      <th>29</th>\n",
       "      <td>25</td>\n",
       "      <td>5</td>\n",
       "      <td>40</td>\n",
       "      <td>1</td>\n",
       "      <td>1</td>\n",
       "      <td>Massachusetts</td>\n",
       "      <td>6794422</td>\n",
       "      <td>5407335</td>\n",
       "      <td>79.6</td>\n",
       "      <td>6.794422</td>\n",
       "      <td>0.735898</td>\n",
       "    </tr>\n",
       "  </tbody>\n",
       "</table>\n",
       "</div>"
      ],
      "text/plain": [
       "    STATE  shootings  SUMLEV REGION DIVISION           NAME  POPESTIMATE2015  \\\n",
       "43      9          1      40      1        1    Connecticut          3590886   \n",
       "22     42          7      40      1        2   Pennsylvania         12802503   \n",
       "38     19          2      40      2        4           Iowa          3123899   \n",
       "6      36         13      40      1        2       New York         19795791   \n",
       "29     25          5      40      1        1  Massachusetts          6794422   \n",
       "\n",
       "    POPEST18PLUS2015  PCNT_POPEST18PLUS  pop_millions      rate  \n",
       "43           2826827               78.7      3.590886  0.278483  \n",
       "22          10112229               79.0     12.802503  0.546768  \n",
       "38           2395103               76.7      3.123899  0.640226  \n",
       "6           15584974               78.7     19.795791  0.656705  \n",
       "29           5407335               79.6      6.794422  0.735898  "
      ]
     },
     "execution_count": 18,
     "metadata": {},
     "output_type": "execute_result"
    }
   ],
   "source": [
    "states.sort_values(by= 'rate',ascending = True).head()\n",
    "\n"
   ]
  },
  {
   "cell_type": "code",
   "execution_count": 19,
   "metadata": {
    "collapsed": true
   },
   "outputs": [],
   "source": [
    "#the highest rate is oklahoma and the lowest was connecticut.\n",
    "#perhaps a correlation between southern or midwest for higher rates and north east /east coast for lower rates"
   ]
  },
  {
   "cell_type": "code",
   "execution_count": 20,
   "metadata": {
    "collapsed": false
   },
   "outputs": [
    {
     "data": {
      "text/html": [
       "<div>\n",
       "<table border=\"1\" class=\"dataframe\">\n",
       "  <thead>\n",
       "    <tr style=\"text-align: right;\">\n",
       "      <th></th>\n",
       "      <th>STATE</th>\n",
       "      <th>shootings</th>\n",
       "      <th>SUMLEV</th>\n",
       "      <th>POPESTIMATE2015</th>\n",
       "      <th>POPEST18PLUS2015</th>\n",
       "      <th>PCNT_POPEST18PLUS</th>\n",
       "      <th>pop_millions</th>\n",
       "      <th>rate</th>\n",
       "    </tr>\n",
       "  </thead>\n",
       "  <tbody>\n",
       "    <tr>\n",
       "      <th>count</th>\n",
       "      <td>47.000000</td>\n",
       "      <td>47.000000</td>\n",
       "      <td>47.0</td>\n",
       "      <td>4.700000e+01</td>\n",
       "      <td>4.700000e+01</td>\n",
       "      <td>47.000000</td>\n",
       "      <td>47.000000</td>\n",
       "      <td>47.000000</td>\n",
       "    </tr>\n",
       "    <tr>\n",
       "      <th>mean</th>\n",
       "      <td>27.638298</td>\n",
       "      <td>9.936170</td>\n",
       "      <td>40.0</td>\n",
       "      <td>6.768534e+06</td>\n",
       "      <td>5.216855e+06</td>\n",
       "      <td>77.144681</td>\n",
       "      <td>6.768534</td>\n",
       "      <td>1.630196</td>\n",
       "    </tr>\n",
       "    <tr>\n",
       "      <th>std</th>\n",
       "      <td>15.749983</td>\n",
       "      <td>12.634329</td>\n",
       "      <td>0.0</td>\n",
       "      <td>7.316522e+06</td>\n",
       "      <td>5.612582e+06</td>\n",
       "      <td>2.041292</td>\n",
       "      <td>7.316522</td>\n",
       "      <td>0.934294</td>\n",
       "    </tr>\n",
       "    <tr>\n",
       "      <th>min</th>\n",
       "      <td>1.000000</td>\n",
       "      <td>1.000000</td>\n",
       "      <td>40.0</td>\n",
       "      <td>5.861070e+05</td>\n",
       "      <td>4.472120e+05</td>\n",
       "      <td>69.500000</td>\n",
       "      <td>0.586107</td>\n",
       "      <td>0.278483</td>\n",
       "    </tr>\n",
       "    <tr>\n",
       "      <th>25%</th>\n",
       "      <td>15.500000</td>\n",
       "      <td>4.000000</td>\n",
       "      <td>40.0</td>\n",
       "      <td>2.487977e+06</td>\n",
       "      <td>1.835812e+06</td>\n",
       "      <td>76.200000</td>\n",
       "      <td>2.487977</td>\n",
       "      <td>0.952394</td>\n",
       "    </tr>\n",
       "    <tr>\n",
       "      <th>50%</th>\n",
       "      <td>27.000000</td>\n",
       "      <td>7.000000</td>\n",
       "      <td>40.0</td>\n",
       "      <td>4.858979e+06</td>\n",
       "      <td>3.755483e+06</td>\n",
       "      <td>77.200000</td>\n",
       "      <td>4.858979</td>\n",
       "      <td>1.566346</td>\n",
       "    </tr>\n",
       "    <tr>\n",
       "      <th>75%</th>\n",
       "      <td>39.500000</td>\n",
       "      <td>10.500000</td>\n",
       "      <td>40.0</td>\n",
       "      <td>7.776672e+06</td>\n",
       "      <td>6.035540e+06</td>\n",
       "      <td>78.200000</td>\n",
       "      <td>7.776672</td>\n",
       "      <td>1.995370</td>\n",
       "    </tr>\n",
       "    <tr>\n",
       "      <th>max</th>\n",
       "      <td>56.000000</td>\n",
       "      <td>74.000000</td>\n",
       "      <td>40.0</td>\n",
       "      <td>3.914482e+07</td>\n",
       "      <td>3.002390e+07</td>\n",
       "      <td>82.400000</td>\n",
       "      <td>39.144818</td>\n",
       "      <td>5.624674</td>\n",
       "    </tr>\n",
       "  </tbody>\n",
       "</table>\n",
       "</div>"
      ],
      "text/plain": [
       "           STATE  shootings  SUMLEV  POPESTIMATE2015  POPEST18PLUS2015  \\\n",
       "count  47.000000  47.000000    47.0     4.700000e+01      4.700000e+01   \n",
       "mean   27.638298   9.936170    40.0     6.768534e+06      5.216855e+06   \n",
       "std    15.749983  12.634329     0.0     7.316522e+06      5.612582e+06   \n",
       "min     1.000000   1.000000    40.0     5.861070e+05      4.472120e+05   \n",
       "25%    15.500000   4.000000    40.0     2.487977e+06      1.835812e+06   \n",
       "50%    27.000000   7.000000    40.0     4.858979e+06      3.755483e+06   \n",
       "75%    39.500000  10.500000    40.0     7.776672e+06      6.035540e+06   \n",
       "max    56.000000  74.000000    40.0     3.914482e+07      3.002390e+07   \n",
       "\n",
       "       PCNT_POPEST18PLUS  pop_millions       rate  \n",
       "count          47.000000     47.000000  47.000000  \n",
       "mean           77.144681      6.768534   1.630196  \n",
       "std             2.041292      7.316522   0.934294  \n",
       "min            69.500000      0.586107   0.278483  \n",
       "25%            76.200000      2.487977   0.952394  \n",
       "50%            77.200000      4.858979   1.566346  \n",
       "75%            78.200000      7.776672   1.995370  \n",
       "max            82.400000     39.144818   5.624674  "
      ]
     },
     "execution_count": 20,
     "metadata": {},
     "output_type": "execute_result"
    }
   ],
   "source": [
    "states.describe()"
   ]
  },
  {
   "cell_type": "code",
   "execution_count": 21,
   "metadata": {
    "collapsed": false
   },
   "outputs": [],
   "source": [
    "police_killings[\"state\"].value_counts();"
   ]
  },
  {
   "cell_type": "code",
   "execution_count": 22,
   "metadata": {
    "collapsed": true
   },
   "outputs": [],
   "source": [
    "pk = police_killings[(police_killings['share_white'] != '-') &\n",
    "                     (police_killings['share_black']!='-') &\n",
    "                     (police_killings['share_hispanic']!='-')]"
   ]
  },
  {
   "cell_type": "code",
   "execution_count": 23,
   "metadata": {
    "collapsed": false
   },
   "outputs": [
    {
     "name": "stderr",
     "output_type": "stream",
     "text": [
      "/dataquest/system/env/python3/lib/python3.4/site-packages/ipykernel/__main__.py:1: SettingWithCopyWarning: \n",
      "A value is trying to be set on a copy of a slice from a DataFrame.\n",
      "Try using .loc[row_indexer,col_indexer] = value instead\n",
      "\n",
      "See the caveats in the documentation: http://pandas.pydata.org/pandas-docs/stable/indexing.html#indexing-view-versus-copy\n",
      "  if __name__ == '__main__':\n",
      "/dataquest/system/env/python3/lib/python3.4/site-packages/ipykernel/__main__.py:2: SettingWithCopyWarning: \n",
      "A value is trying to be set on a copy of a slice from a DataFrame.\n",
      "Try using .loc[row_indexer,col_indexer] = value instead\n",
      "\n",
      "See the caveats in the documentation: http://pandas.pydata.org/pandas-docs/stable/indexing.html#indexing-view-versus-copy\n",
      "  from ipykernel import kernelapp as app\n",
      "/dataquest/system/env/python3/lib/python3.4/site-packages/ipykernel/__main__.py:3: SettingWithCopyWarning: \n",
      "A value is trying to be set on a copy of a slice from a DataFrame.\n",
      "Try using .loc[row_indexer,col_indexer] = value instead\n",
      "\n",
      "See the caveats in the documentation: http://pandas.pydata.org/pandas-docs/stable/indexing.html#indexing-view-versus-copy\n",
      "  app.launch_new_instance()\n"
     ]
    }
   ],
   "source": [
    "pk[\"share_white\"] = pk[\"share_white\"].astype(float)\n",
    "pk[\"share_black\"] = pk[\"share_black\"].astype(float)\n",
    "pk[\"share_hispanic\"] = pk[\"share_hispanic\"].astype(float)"
   ]
  },
  {
   "cell_type": "code",
   "execution_count": 24,
   "metadata": {
    "collapsed": false
   },
   "outputs": [],
   "source": [
    "lowest_state = states.sort_values(by = 'rate',ascending = True)[0:10]['STATE']\n",
    "lowest_states = set(police_killings[police_killings[\"state_fp\"].isin(lowest_state)]['state'])\n",
    "highest_state = states.sort_values(by = 'rate',ascending = False)[0:10]['STATE']\n",
    "highest_states = set(police_killings[police_killings[\"state_fp\"].isin(highest_state)]['state'])"
   ]
  },
  {
   "cell_type": "code",
   "execution_count": null,
   "metadata": {
    "collapsed": true
   },
   "outputs": [],
   "source": []
  },
  {
   "cell_type": "code",
   "execution_count": null,
   "metadata": {
    "collapsed": true
   },
   "outputs": [],
   "source": []
  },
  {
   "cell_type": "code",
   "execution_count": null,
   "metadata": {
    "collapsed": true
   },
   "outputs": [],
   "source": []
  },
  {
   "cell_type": "code",
   "execution_count": 25,
   "metadata": {
    "collapsed": false
   },
   "outputs": [
    {
     "name": "stdout",
     "output_type": "stream",
     "text": [
      "                name age gender raceethnicity    month  day  year  \\\n",
      "2        Aaron Siler  26   Male         White    March   14  2015   \n",
      "4       Adam Jovicic  29   Male         White    March   19  2015   \n",
      "26       Andrew Toto  54   Male         White  January   21  2015   \n",
      "31       Angelo West  41   Male         Black    March   27  2015   \n",
      "35  Anthony Gomez Jr  29   Male         Black      May   19  2015   \n",
      "\n",
      "                   streetaddress          city state    ...     \\\n",
      "2           22nd Ave and 56th St       Kenosha    WI    ...      \n",
      "4                 364 Hiwood Ave  Munroe Falls    OH    ...      \n",
      "26  Scobie Pond Rd and Julian Rd         Derry    NH    ...      \n",
      "31   Humboldt Ave and Ruthven St       Roxbury    MA    ...      \n",
      "35               305 E Walnut St     Lancaster    PA    ...      \n",
      "\n",
      "    share_hispanic  p_income  h_income  county_income  comp_income  \\\n",
      "2             16.8     25286   45365.0          54930     0.825869   \n",
      "4              1.7     33954   68785.0          49669     1.384868   \n",
      "26             1.9     32921   61167.0          77348     0.790803   \n",
      "31            35.2     14995   20388.0          53540     0.380799   \n",
      "35            37.1     21868   42027.0          56483     0.744065   \n",
      "\n",
      "    county_bucket  nat_bucket   pov     urate   college  \n",
      "2             2.0         3.0  14.6  0.166293  0.147312  \n",
      "4             5.0         4.0   1.9  0.063550  0.403954  \n",
      "26            1.0         4.0   5.4  0.087385  0.284854  \n",
      "31            1.0         1.0  41.3  0.220398  0.182336  \n",
      "35            1.0         2.0   9.3  0.206855  0.172319  \n",
      "\n",
      "[5 rows x 34 columns]\n",
      "               name age gender    raceethnicity    month  day  year  \\\n",
      "1    Aaron Rutledge  27   Male            White    April    2  2015   \n",
      "5     Adam Reinhart  29   Male            White    March    7  2015   \n",
      "21  Andre Murphy Sr  42   Male            Black  January    7  2015   \n",
      "24   Andrew Jackson  26   Male            White    April   29  2015   \n",
      "42   Aurelio Duarte  40   Male  Hispanic/Latino    March    8  2015   \n",
      "\n",
      "             streetaddress           city state    ...     share_hispanic  \\\n",
      "1   300 block Iris Park Dr      Pineville    LA    ...                0.5   \n",
      "5      18th St and Palm Ln        Phoenix    AZ    ...               79.0   \n",
      "21          1223 Omaha Ave        Norfolk    NE    ...                2.9   \n",
      "24      1200 W Florida Ave      Chickasha    OK    ...                9.7   \n",
      "42         3632 SW 38th St  Oklahoma City    OK    ...               56.6   \n",
      "\n",
      "    p_income  h_income  county_income  comp_income  county_bucket  nat_bucket  \\\n",
      "1      14678   27972.0          40930     0.683411            2.0         1.0   \n",
      "5      15523   20833.0          53596     0.388704            1.0         1.0   \n",
      "21     23342   54809.0          46566     1.177018            4.0         3.0   \n",
      "24     17695   32034.0          49637     0.645365            1.0         1.0   \n",
      "42     17225   32860.0          45215     0.726750            2.0         1.0   \n",
      "\n",
      "     pov     urate   college  \n",
      "1   28.8  0.065724  0.111402  \n",
      "5     58  0.073651  0.102955  \n",
      "21  10.3  0.035221  0.258886  \n",
      "24  20.3  0.011335  0.169402  \n",
      "42  25.1  0.142747  0.035339  \n",
      "\n",
      "[5 rows x 34 columns]\n"
     ]
    }
   ],
   "source": [
    "#lowest_states = [\"CT\", \"PA\", \"IA\", \"NY\", \"MA\", \"NH\", \"ME\", \"IL\", \"OH\", \"WI\"]\n",
    "#highest_states = [\"OK\", \"AZ\", \"NE\", \"HI\", \"AK\", \"ID\", \"NM\", \"LA\", \"CO\", \"DE\"]\n",
    "ls = pk[pk[\"state\"].isin(lowest_states)]\n",
    "print(ls.head())\n",
    "hs = pk[pk[\"state\"].isin(highest_states)]\n",
    "print(hs.head())"
   ]
  },
  {
   "cell_type": "code",
   "execution_count": 26,
   "metadata": {
    "collapsed": false
   },
   "outputs": [
    {
     "data": {
      "text/html": [
       "<div>\n",
       "<table border=\"1\" class=\"dataframe\">\n",
       "  <thead>\n",
       "    <tr style=\"text-align: right;\">\n",
       "      <th></th>\n",
       "      <th>pop</th>\n",
       "      <th>county_income</th>\n",
       "      <th>share_white</th>\n",
       "      <th>share_black</th>\n",
       "      <th>share_hispanic</th>\n",
       "    </tr>\n",
       "  </thead>\n",
       "  <tbody>\n",
       "    <tr>\n",
       "      <th>count</th>\n",
       "      <td>56.000000</td>\n",
       "      <td>56.000000</td>\n",
       "      <td>56.000000</td>\n",
       "      <td>56.000000</td>\n",
       "      <td>56.000000</td>\n",
       "    </tr>\n",
       "    <tr>\n",
       "      <th>mean</th>\n",
       "      <td>4201.660714</td>\n",
       "      <td>54830.839286</td>\n",
       "      <td>60.616071</td>\n",
       "      <td>21.257143</td>\n",
       "      <td>12.948214</td>\n",
       "    </tr>\n",
       "    <tr>\n",
       "      <th>std</th>\n",
       "      <td>1428.970300</td>\n",
       "      <td>12451.547261</td>\n",
       "      <td>32.556947</td>\n",
       "      <td>27.770657</td>\n",
       "      <td>15.296417</td>\n",
       "    </tr>\n",
       "    <tr>\n",
       "      <th>min</th>\n",
       "      <td>1271.000000</td>\n",
       "      <td>34388.000000</td>\n",
       "      <td>0.000000</td>\n",
       "      <td>0.000000</td>\n",
       "      <td>0.000000</td>\n",
       "    </tr>\n",
       "    <tr>\n",
       "      <th>25%</th>\n",
       "      <td>3299.250000</td>\n",
       "      <td>46085.000000</td>\n",
       "      <td>39.650000</td>\n",
       "      <td>2.100000</td>\n",
       "      <td>1.850000</td>\n",
       "    </tr>\n",
       "    <tr>\n",
       "      <th>50%</th>\n",
       "      <td>4121.500000</td>\n",
       "      <td>52930.000000</td>\n",
       "      <td>72.950000</td>\n",
       "      <td>9.150000</td>\n",
       "      <td>6.200000</td>\n",
       "    </tr>\n",
       "    <tr>\n",
       "      <th>75%</th>\n",
       "      <td>4928.250000</td>\n",
       "      <td>59112.000000</td>\n",
       "      <td>87.800000</td>\n",
       "      <td>25.125000</td>\n",
       "      <td>20.075000</td>\n",
       "    </tr>\n",
       "    <tr>\n",
       "      <th>max</th>\n",
       "      <td>8222.000000</td>\n",
       "      <td>87763.000000</td>\n",
       "      <td>97.200000</td>\n",
       "      <td>98.900000</td>\n",
       "      <td>71.900000</td>\n",
       "    </tr>\n",
       "  </tbody>\n",
       "</table>\n",
       "</div>"
      ],
      "text/plain": [
       "               pop  county_income  share_white  share_black  share_hispanic\n",
       "count    56.000000      56.000000    56.000000    56.000000       56.000000\n",
       "mean   4201.660714   54830.839286    60.616071    21.257143       12.948214\n",
       "std    1428.970300   12451.547261    32.556947    27.770657       15.296417\n",
       "min    1271.000000   34388.000000     0.000000     0.000000        0.000000\n",
       "25%    3299.250000   46085.000000    39.650000     2.100000        1.850000\n",
       "50%    4121.500000   52930.000000    72.950000     9.150000        6.200000\n",
       "75%    4928.250000   59112.000000    87.800000    25.125000       20.075000\n",
       "max    8222.000000   87763.000000    97.200000    98.900000       71.900000"
      ]
     },
     "execution_count": 26,
     "metadata": {},
     "output_type": "execute_result"
    }
   ],
   "source": [
    "columns = [\"pop\", \"county_income\", \"share_white\", \"share_black\", \"share_hispanic\"]\n",
    "\n",
    "ls[columns].describe()"
   ]
  },
  {
   "cell_type": "code",
   "execution_count": 27,
   "metadata": {
    "collapsed": false
   },
   "outputs": [
    {
     "data": {
      "text/html": [
       "<div>\n",
       "<table border=\"1\" class=\"dataframe\">\n",
       "  <thead>\n",
       "    <tr style=\"text-align: right;\">\n",
       "      <th></th>\n",
       "      <th>pop</th>\n",
       "      <th>county_income</th>\n",
       "      <th>share_white</th>\n",
       "      <th>share_black</th>\n",
       "      <th>share_hispanic</th>\n",
       "    </tr>\n",
       "  </thead>\n",
       "  <tbody>\n",
       "    <tr>\n",
       "      <th>count</th>\n",
       "      <td>92.000000</td>\n",
       "      <td>92.000000</td>\n",
       "      <td>92.000000</td>\n",
       "      <td>92.000000</td>\n",
       "      <td>92.000000</td>\n",
       "    </tr>\n",
       "    <tr>\n",
       "      <th>mean</th>\n",
       "      <td>4315.750000</td>\n",
       "      <td>48706.967391</td>\n",
       "      <td>55.652174</td>\n",
       "      <td>11.532609</td>\n",
       "      <td>20.693478</td>\n",
       "    </tr>\n",
       "    <tr>\n",
       "      <th>std</th>\n",
       "      <td>2063.723609</td>\n",
       "      <td>9839.206872</td>\n",
       "      <td>24.406158</td>\n",
       "      <td>19.591303</td>\n",
       "      <td>20.415690</td>\n",
       "    </tr>\n",
       "    <tr>\n",
       "      <th>min</th>\n",
       "      <td>403.000000</td>\n",
       "      <td>25498.000000</td>\n",
       "      <td>2.100000</td>\n",
       "      <td>0.000000</td>\n",
       "      <td>0.000000</td>\n",
       "    </tr>\n",
       "    <tr>\n",
       "      <th>25%</th>\n",
       "      <td>2886.000000</td>\n",
       "      <td>42987.000000</td>\n",
       "      <td>39.175000</td>\n",
       "      <td>0.675000</td>\n",
       "      <td>4.350000</td>\n",
       "    </tr>\n",
       "    <tr>\n",
       "      <th>50%</th>\n",
       "      <td>4257.500000</td>\n",
       "      <td>48801.000000</td>\n",
       "      <td>58.200000</td>\n",
       "      <td>2.700000</td>\n",
       "      <td>10.850000</td>\n",
       "    </tr>\n",
       "    <tr>\n",
       "      <th>75%</th>\n",
       "      <td>5377.000000</td>\n",
       "      <td>53596.000000</td>\n",
       "      <td>74.200000</td>\n",
       "      <td>11.550000</td>\n",
       "      <td>31.725000</td>\n",
       "    </tr>\n",
       "    <tr>\n",
       "      <th>max</th>\n",
       "      <td>13561.000000</td>\n",
       "      <td>77454.000000</td>\n",
       "      <td>95.900000</td>\n",
       "      <td>93.100000</td>\n",
       "      <td>81.500000</td>\n",
       "    </tr>\n",
       "  </tbody>\n",
       "</table>\n",
       "</div>"
      ],
      "text/plain": [
       "                pop  county_income  share_white  share_black  share_hispanic\n",
       "count     92.000000      92.000000    92.000000    92.000000       92.000000\n",
       "mean    4315.750000   48706.967391    55.652174    11.532609       20.693478\n",
       "std     2063.723609    9839.206872    24.406158    19.591303       20.415690\n",
       "min      403.000000   25498.000000     2.100000     0.000000        0.000000\n",
       "25%     2886.000000   42987.000000    39.175000     0.675000        4.350000\n",
       "50%     4257.500000   48801.000000    58.200000     2.700000       10.850000\n",
       "75%     5377.000000   53596.000000    74.200000    11.550000       31.725000\n",
       "max    13561.000000   77454.000000    95.900000    93.100000       81.500000"
      ]
     },
     "execution_count": 27,
     "metadata": {},
     "output_type": "execute_result"
    }
   ],
   "source": [
    "columns = [\"pop\", \"county_income\", \"share_white\", \"share_black\", \"share_hispanic\"]\n",
    "\n",
    "hs[columns].describe()"
   ]
  },
  {
   "cell_type": "code",
   "execution_count": 28,
   "metadata": {
    "collapsed": false
   },
   "outputs": [
    {
     "data": {
      "text/plain": [
       "pop                4201.660714\n",
       "county_income     54830.839286\n",
       "share_white          60.616071\n",
       "share_black          21.257143\n",
       "share_hispanic       12.948214\n",
       "dtype: float64"
      ]
     },
     "execution_count": 28,
     "metadata": {},
     "output_type": "execute_result"
    }
   ],
   "source": [
    "ls[columns].mean()"
   ]
  },
  {
   "cell_type": "code",
   "execution_count": 29,
   "metadata": {
    "collapsed": false
   },
   "outputs": [
    {
     "data": {
      "text/plain": [
       "pop                4315.750000\n",
       "county_income     48706.967391\n",
       "share_white          55.652174\n",
       "share_black          11.532609\n",
       "share_hispanic       20.693478\n",
       "dtype: float64"
      ]
     },
     "execution_count": 29,
     "metadata": {},
     "output_type": "execute_result"
    }
   ],
   "source": [
    "hs[columns].mean()"
   ]
  },
  {
   "cell_type": "code",
   "execution_count": 30,
   "metadata": {
    "collapsed": false
   },
   "outputs": [
    {
     "data": {
      "text/plain": [
       "pop                114.089286\n",
       "county_income    -6123.871894\n",
       "share_white         -4.963898\n",
       "share_black         -9.724534\n",
       "share_hispanic       7.745264\n",
       "dtype: float64"
      ]
     },
     "execution_count": 30,
     "metadata": {},
     "output_type": "execute_result"
    }
   ],
   "source": [
    "diff = hs[columns].mean() - ls[columns].mean()\n",
    "diff"
   ]
  },
  {
   "cell_type": "code",
   "execution_count": 31,
   "metadata": {
    "collapsed": false
   },
   "outputs": [],
   "source": [
    "#it looks like the higher poplulations had higher rates\n",
    "#the lower the country income the higher rate\n",
    "#the lower country share of white and black indicated higher rates\n",
    "#the higher hispanice share hada higher rate\n",
    "\n",
    "#we did lose some killings that didn't have the percentage of white,\n",
    "#black or hispanic from the census area."
   ]
  },
  {
   "cell_type": "code",
   "execution_count": 37,
   "metadata": {
    "collapsed": false
   },
   "outputs": [
    {
     "data": {
      "text/html": [
       "<div>\n",
       "<table border=\"1\" class=\"dataframe\">\n",
       "  <thead>\n",
       "    <tr style=\"text-align: right;\">\n",
       "      <th></th>\n",
       "      <th>name</th>\n",
       "      <th>age</th>\n",
       "      <th>gender</th>\n",
       "      <th>raceethnicity</th>\n",
       "      <th>month</th>\n",
       "      <th>day</th>\n",
       "      <th>year</th>\n",
       "      <th>streetaddress</th>\n",
       "      <th>city</th>\n",
       "      <th>state</th>\n",
       "      <th>...</th>\n",
       "      <th>share_hispanic</th>\n",
       "      <th>p_income</th>\n",
       "      <th>h_income</th>\n",
       "      <th>county_income</th>\n",
       "      <th>comp_income</th>\n",
       "      <th>county_bucket</th>\n",
       "      <th>nat_bucket</th>\n",
       "      <th>pov</th>\n",
       "      <th>urate</th>\n",
       "      <th>college</th>\n",
       "    </tr>\n",
       "  </thead>\n",
       "  <tbody>\n",
       "    <tr>\n",
       "      <th>182</th>\n",
       "      <td>Hashim Abdul-Rasheed</td>\n",
       "      <td>41</td>\n",
       "      <td>Male</td>\n",
       "      <td>Black</td>\n",
       "      <td>January</td>\n",
       "      <td>7</td>\n",
       "      <td>2015</td>\n",
       "      <td>4600 International Gateway</td>\n",
       "      <td>Columbus</td>\n",
       "      <td>OH</td>\n",
       "      <td>...</td>\n",
       "      <td>-</td>\n",
       "      <td>-</td>\n",
       "      <td>NaN</td>\n",
       "      <td>50877</td>\n",
       "      <td>NaN</td>\n",
       "      <td>NaN</td>\n",
       "      <td>NaN</td>\n",
       "      <td>-</td>\n",
       "      <td>NaN</td>\n",
       "      <td>NaN</td>\n",
       "    </tr>\n",
       "    <tr>\n",
       "      <th>378</th>\n",
       "      <td>Richard White</td>\n",
       "      <td>63</td>\n",
       "      <td>Male</td>\n",
       "      <td>Black</td>\n",
       "      <td>March</td>\n",
       "      <td>20</td>\n",
       "      <td>2015</td>\n",
       "      <td>Louis Armstrong New Orleans International Airp...</td>\n",
       "      <td>Kenner</td>\n",
       "      <td>LA</td>\n",
       "      <td>...</td>\n",
       "      <td>-</td>\n",
       "      <td>-</td>\n",
       "      <td>NaN</td>\n",
       "      <td>48261</td>\n",
       "      <td>NaN</td>\n",
       "      <td>NaN</td>\n",
       "      <td>NaN</td>\n",
       "      <td>-</td>\n",
       "      <td>NaN</td>\n",
       "      <td>NaN</td>\n",
       "    </tr>\n",
       "  </tbody>\n",
       "</table>\n",
       "<p>2 rows × 34 columns</p>\n",
       "</div>"
      ],
      "text/plain": [
       "                     name age gender raceethnicity    month  day  year  \\\n",
       "182  Hashim Abdul-Rasheed  41   Male         Black  January    7  2015   \n",
       "378         Richard White  63   Male         Black    March   20  2015   \n",
       "\n",
       "                                         streetaddress      city state  \\\n",
       "182                         4600 International Gateway  Columbus    OH   \n",
       "378  Louis Armstrong New Orleans International Airp...    Kenner    LA   \n",
       "\n",
       "      ...    share_hispanic  p_income  h_income  county_income  comp_income  \\\n",
       "182   ...                 -         -       NaN          50877          NaN   \n",
       "378   ...                 -         -       NaN          48261          NaN   \n",
       "\n",
       "     county_bucket  nat_bucket pov urate college  \n",
       "182            NaN         NaN   -   NaN     NaN  \n",
       "378            NaN         NaN   -   NaN     NaN  \n",
       "\n",
       "[2 rows x 34 columns]"
      ]
     },
     "execution_count": 37,
     "metadata": {},
     "output_type": "execute_result"
    }
   ],
   "source": [
    "police_killings[police_killings['share_white']== '-']\n",
    "#this is an issue with sampling or recording of data\n",
    "\n",
    "#it would be better to look into state level data and not average data--there might be refinements in measurement "
   ]
  },
  {
   "cell_type": "code",
   "execution_count": null,
   "metadata": {
    "collapsed": true
   },
   "outputs": [],
   "source": []
  }
 ],
 "metadata": {
  "kernelspec": {
   "display_name": "Python 2",
   "language": "python",
   "name": "python2"
  },
  "language_info": {
   "codemirror_mode": {
    "name": "ipython",
    "version": 2
   },
   "file_extension": ".py",
   "mimetype": "text/x-python",
   "name": "python",
   "nbconvert_exporter": "python",
   "pygments_lexer": "ipython2",
   "version": "2.7.12"
  }
 },
 "nbformat": 4,
 "nbformat_minor": 0
}
